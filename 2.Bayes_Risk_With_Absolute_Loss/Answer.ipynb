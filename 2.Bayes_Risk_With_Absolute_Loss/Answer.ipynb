{
 "cells": [
  {
   "cell_type": "markdown",
   "id": "37969f8d",
   "metadata": {},
   "source": [
    "## Question 0"
   ]
  },
  {
   "cell_type": "markdown",
   "id": "00405f0f",
   "metadata": {
    "vscode": {
     "languageId": "plaintext"
    }
   },
   "source": [
    "Let's take:\n",
    "- f(x) = x^3\n",
    "\n",
    "The derivative is:\n",
    "- f'(x) = 3x^2\n",
    "\n",
    "f'(0) = 0, but x = 0 is not a local minimum or maximum of f, it is an inflection point."
   ]
  },
  {
   "cell_type": "markdown",
   "id": "0dd6eb22",
   "metadata": {},
   "source": [
    "## Question 1"
   ]
  },
  {
   "cell_type": "markdown",
   "id": "917bd60b",
   "metadata": {
    "vscode": {
     "languageId": "plaintext"
    }
   },
   "source": [
    "Let Y | X = x follow an exponential distribution.\n",
    "\n",
    "Then:\n",
    "- $f^*_{squarred}(x)$ is the mean.\n",
    "- $f^*_{absolute}(x)$ is the median.\n",
    "\n",
    "For the exponential case, $f^*_{squarred}(x)$ > $f^*_{absolute}(x)$."
   ]
  },
  {
   "cell_type": "markdown",
   "id": "2dde74ed",
   "metadata": {},
   "source": [
    "### Empirical simulations:"
   ]
  },
  {
   "cell_type": "code",
   "execution_count": 41,
   "id": "afea1d15",
   "metadata": {},
   "outputs": [
    {
     "name": "stdout",
     "output_type": "stream",
     "text": [
      "Bayes predictor (squared loss) = 1.0112\n",
      "Bayes predictor (absolute loss) = 0.8596\n"
     ]
    }
   ],
   "source": [
    "import numpy as np\n",
    "\n",
    "#np.random.seed(0)\n",
    "Y = np.random.exponential(size=1000) + np.random.normal(size=1000)\n",
    "\n",
    "# Compute estimators\n",
    "f_squared = np.mean(Y)\n",
    "f_absolute = np.median(Y)\n",
    "\n",
    "print(f\"Bayes predictor (squared loss) = {f_squared:.4f}\")\n",
    "print(f\"Bayes predictor (absolute loss) = {f_absolute:.4f}\")"
   ]
  },
  {
   "cell_type": "markdown",
   "id": "0d33fc24",
   "metadata": {},
   "source": [
    "## Question 2"
   ]
  },
  {
   "cell_type": "markdown",
   "id": "70ba59fe",
   "metadata": {},
   "source": [
    "Let's split the integral:\n",
    "$$\n",
    "g(z) = \\int_{-\\infty}^{+\\infty}|y - z|P_{Y|X=x}(y)dy\n",
    "$$\n",
    "$$\n",
    "g(z) = \\int_{-\\infty}^{z}(z - y)P_{Y|X=x}(y)dy + \\int_{z}^{+\\infty}(y - z)P_{Y|X=x}(y)dy\n",
    "$$\n",
    "We now differentiate g(z) with respect to z:\n",
    "- For the first integral (we apply the Leibniz rule): \n",
    "$$\n",
    "\\frac{d}{dz} \\int_{-\\infty}^{z}(z - y)P_{Y|X=x}(y)dy = \\int_{-\\infty}^{z}P_{Y|X=x}(y)dy = F(z)\n",
    "$$\n",
    "where F(z) is the cumulative distribution function (CDF) of (Y | X = x).\n",
    "- For the second integral:\n",
    "$$\n",
    "\\frac{d}{dz} \\int_{z}^{+\\infty}(y - z)P_{Y|X=x}(y)dy = -\\int_{z}^{+\\infty}P_{Y|X=x}(y)dy = -(1 - F(z))\n",
    "$$\n",
    "So:\n",
    "$$\n",
    "g'(z) = F(z) - (1 - F(z)) = 2F(z) - 1\n",
    "$$\n",
    "Also we know that:\n",
    "- Any function of the form z $\\mapsto$ E[f(Y, z)] is convex in z if:\n",
    "1. For each fixed value y, z $\\mapsto$ f(y, z) is convex\n",
    "2. The expectation exists (is finite)\n",
    "\n",
    "In our case:\n",
    "\n",
    "1. f(y, z) = |y - z| is convex in z for any fixed y\n",
    "2. E[|Y -z| | X = x] is finite by assumption (moment of order 1)\n",
    "\n",
    "Therefore, g(z) is convex in z.\n",
    "\n",
    "This tells us that any stationary point (where g'(z) = 0) is a global minimum.\n",
    "\n",
    "Let's set the derivative to zero:\n",
    "$$\n",
    "g'(z) = 0 => 2F(z) - 1 = 0 => F(z) = \\frac{1}{2}\n",
    "$$\n",
    "So z minimizes g(z) when z is the median of the distribution Y | X = x.\n",
    "\n",
    "In conclusion, we have that:\n",
    "$$\n",
    "f^*_{absolute}(x) = \\arg\\min_{z \\in \\mathbb{R}} \\int_{y \\in R}|y - z|P_{Y|X=x}(y)dy = median(Y | X = x)\n",
    "$$"
   ]
  }
 ],
 "metadata": {
  "kernelspec": {
   "display_name": "base",
   "language": "python",
   "name": "python3"
  },
  "language_info": {
   "codemirror_mode": {
    "name": "ipython",
    "version": 3
   },
   "file_extension": ".py",
   "mimetype": "text/x-python",
   "name": "python",
   "nbconvert_exporter": "python",
   "pygments_lexer": "ipython3",
   "version": "3.12.10"
  }
 },
 "nbformat": 4,
 "nbformat_minor": 5
}

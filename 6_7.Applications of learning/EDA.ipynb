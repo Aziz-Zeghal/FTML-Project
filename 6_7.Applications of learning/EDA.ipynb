{
 "cells": [
  {
   "cell_type": "markdown",
   "id": "804bb821",
   "metadata": {},
   "source": [
    "# Phishing emails detection"
   ]
  },
  {
   "cell_type": "markdown",
   "id": "c06459b5",
   "metadata": {},
   "source": [
    "## Libraries"
   ]
  },
  {
   "cell_type": "code",
   "execution_count": 28,
   "id": "d46cefb5",
   "metadata": {},
   "outputs": [
    {
     "name": "stderr",
     "output_type": "stream",
     "text": [
      "[nltk_data] Downloading package stopwords to /home/tofeha/nltk_data...\n",
      "[nltk_data]   Package stopwords is already up-to-date!\n"
     ]
    },
    {
     "data": {
      "text/plain": [
       "True"
      ]
     },
     "execution_count": 28,
     "metadata": {},
     "output_type": "execute_result"
    }
   ],
   "source": [
    "import nltk\n",
    "nltk.download(\"stopwords\")"
   ]
  },
  {
   "cell_type": "code",
   "execution_count": 29,
   "id": "3bbfc430",
   "metadata": {},
   "outputs": [],
   "source": [
    "import numpy as numpy\n",
    "import pandas as pd\n",
    "\n",
    "import os\n",
    "from collections import Counter\n",
    "import re\n",
    "from nltk.corpus import stopwords\n",
    "\n",
    "\n",
    "DATA = \"data/\"\n",
    "MAPPING = {\n",
    "    \"0\": \"Safe Email\",\n",
    "    \"1\": \"Phishing Email\",\n",
    "}\n",
    "\n",
    "if not os.path.exists(DATA):\n",
    "    raise FileNotFoundError(f\"Data directory {DATA} does not exist. Please create it and add the data files.\")"
   ]
  },
  {
   "cell_type": "code",
   "execution_count": 30,
   "id": "9a9f4732",
   "metadata": {},
   "outputs": [],
   "source": [
    "# The data is here, unzip it if not already done\n",
    "!if [ ! -f {DATA}Phishing_Email.csv ]; then unzip -o {DATA}phishing_email.zip -d {DATA}; fi\n"
   ]
  },
  {
   "cell_type": "markdown",
   "id": "f47f0c15",
   "metadata": {},
   "source": [
    "## Preprocessing (Execute ONLY ONCE)\n",
    "\n",
    "These cells will create the `phishing_email_clean_csv` file, and zip it (for GitHub).\n",
    "\n",
    "No need to run these cells again, unless you want to update the dataset."
   ]
  },
  {
   "cell_type": "code",
   "execution_count": 31,
   "id": "c3eeb749",
   "metadata": {},
   "outputs": [],
   "source": [
    "emails = pd.read_csv(os.path.join(DATA, \"Phishing_Email.csv\"))"
   ]
  },
  {
   "cell_type": "code",
   "execution_count": 32,
   "id": "be33a3bc",
   "metadata": {},
   "outputs": [],
   "source": [
    "cleaned_emails = emails.copy()\n",
    "my_columns = [\"Email Text\", \"Email Type\"]\n",
    "\n",
    "# Rename columns\n",
    "cleaned_emails = cleaned_emails[my_columns].rename(columns={\n",
    "    my_columns[0]: \"text\",\n",
    "    my_columns[1]: \"label\",\n",
    "})\n",
    "# NA emails are just empty\n",
    "cleaned_emails = cleaned_emails.fillna(\"\")\n",
    "\n",
    "# Map label strings to integers: \"Safe Email\" -> 0, \"Phishing Email\" -> 1\n",
    "label_map = {v: int(k) for k, v in MAPPING.items()}\n",
    "\n",
    "# Affect an int to each label.\n",
    "cleaned_emails[\"label\"] = cleaned_emails[\"label\"].map(label_map).astype(\"int8\")\n",
    "cleaned_emails[\"text\"] = cleaned_emails[\"text\"].astype(str)\n",
    "\n",
    "# Remove any labels that are not in the dataset\n",
    "cleaned_emails = cleaned_emails.dropna(subset=[\"label\"])\n",
    "\n"
   ]
  },
  {
   "cell_type": "markdown",
   "id": "647ec7c5",
   "metadata": {},
   "source": [
    "### Save as CSV file in a zip file\n"
   ]
  },
  {
   "cell_type": "code",
   "execution_count": 33,
   "id": "13a36e75",
   "metadata": {},
   "outputs": [
    {
     "name": "stdout",
     "output_type": "stream",
     "text": [
      "Cleaned emails saved to data/phishing_email_cleaned.csv\n"
     ]
    }
   ],
   "source": [
    "cleaned_emails.to_csv(os.path.join(DATA, \"phishing_email_cleaned.csv\"), index=False)\n",
    "print(f\"Cleaned emails saved to {os.path.join(DATA, 'phishing_email_cleaned.csv')}\")"
   ]
  },
  {
   "cell_type": "code",
   "execution_count": 34,
   "id": "7b036e46",
   "metadata": {},
   "outputs": [
    {
     "name": "stdout",
     "output_type": "stream",
     "text": [
      "  adding: data/phishing_email_cleaned.csv (deflated 64%)\n",
      "Cleaned emails zipped to data/phishing_email_cleaned.zip\n"
     ]
    }
   ],
   "source": [
    "! if [ ! -f {DATA}phishing_email_cleaned.zip ]; then zip -r {DATA}phishing_email_cleaned.zip {DATA}phishing_email_cleaned.csv; fi\n",
    "print(f\"Cleaned emails zipped to {os.path.join(DATA, 'phishing_email_cleaned.zip')}\")"
   ]
  },
  {
   "cell_type": "markdown",
   "id": "5af21f2c",
   "metadata": {},
   "source": [
    "## EDA\n",
    "\n",
    "Each email has the following features:\n",
    "- `Email Text`: The content of the email.\n",
    "- `Email Type`: The label indicating whether the email is phishing or legitimate.\n",
    "\n",
    "We will separate the analysis into both classification types.\n",
    "\n",
    "Analysis that include both types will not approch numerical properties (safe mail are more present), but rather text properties.\n"
   ]
  },
  {
   "cell_type": "code",
   "execution_count": 35,
   "id": "f27bff8b",
   "metadata": {},
   "outputs": [],
   "source": [
    "# Check if the CSV file exists, if not, unzip the provided zip file\n",
    "! if [ ! -f {DATA}phishing_email_cleaned.csv ]; then unzip -o {DATA}phishing_email_cleaned.zip -d {DATA}; fi"
   ]
  },
  {
   "cell_type": "code",
   "execution_count": 60,
   "id": "b7ca676f",
   "metadata": {},
   "outputs": [],
   "source": [
    "emails = pd.read_csv(os.path.join(DATA, \"phishing_email_cleaned.csv\"))\n",
    "emails[\"text\"] = emails[\"text\"].astype(str)\n",
    "safe_emails = emails[emails[\"label\"] == 0].copy()\n",
    "phishing_emails = emails[emails[\"label\"] == 1].copy()"
   ]
  },
  {
   "cell_type": "markdown",
   "id": "14f47499",
   "metadata": {},
   "source": [
    "### General information"
   ]
  },
  {
   "cell_type": "code",
   "execution_count": 61,
   "id": "988891ca",
   "metadata": {},
   "outputs": [
    {
     "data": {
      "text/html": [
       "<div>\n",
       "<style scoped>\n",
       "    .dataframe tbody tr th:only-of-type {\n",
       "        vertical-align: middle;\n",
       "    }\n",
       "\n",
       "    .dataframe tbody tr th {\n",
       "        vertical-align: top;\n",
       "    }\n",
       "\n",
       "    .dataframe thead th {\n",
       "        text-align: right;\n",
       "    }\n",
       "</style>\n",
       "<table border=\"1\" class=\"dataframe\">\n",
       "  <thead>\n",
       "    <tr style=\"text-align: right;\">\n",
       "      <th></th>\n",
       "      <th>text</th>\n",
       "      <th>label</th>\n",
       "    </tr>\n",
       "  </thead>\n",
       "  <tbody>\n",
       "    <tr>\n",
       "      <th>18645</th>\n",
       "      <td>date a lonely housewife always wanted to date ...</td>\n",
       "      <td>1</td>\n",
       "    </tr>\n",
       "    <tr>\n",
       "      <th>18646</th>\n",
       "      <td>request submitted : access request for anita ....</td>\n",
       "      <td>0</td>\n",
       "    </tr>\n",
       "    <tr>\n",
       "      <th>18647</th>\n",
       "      <td>re : important - prc mtg hi dorn &amp; john , as y...</td>\n",
       "      <td>0</td>\n",
       "    </tr>\n",
       "    <tr>\n",
       "      <th>18648</th>\n",
       "      <td>press clippings - letter on californian utilit...</td>\n",
       "      <td>0</td>\n",
       "    </tr>\n",
       "    <tr>\n",
       "      <th>18649</th>\n",
       "      <td>empty</td>\n",
       "      <td>1</td>\n",
       "    </tr>\n",
       "  </tbody>\n",
       "</table>\n",
       "</div>"
      ],
      "text/plain": [
       "                                                    text  label\n",
       "18645  date a lonely housewife always wanted to date ...      1\n",
       "18646  request submitted : access request for anita ....      0\n",
       "18647  re : important - prc mtg hi dorn & john , as y...      0\n",
       "18648  press clippings - letter on californian utilit...      0\n",
       "18649                                              empty      1"
      ]
     },
     "execution_count": 61,
     "metadata": {},
     "output_type": "execute_result"
    }
   ],
   "source": [
    "emails.tail(5)"
   ]
  },
  {
   "cell_type": "markdown",
   "id": "7c5666d8",
   "metadata": {},
   "source": [
    "### Most common words"
   ]
  },
  {
   "cell_type": "code",
   "execution_count": 62,
   "id": "4e6d9614",
   "metadata": {},
   "outputs": [],
   "source": [
    "def get_most_common_words(all_words, len_minimum=0, top_n=10, stop_words=True, special_chars=False):\n",
    "    \"\"\"\n",
    "    Get the most common words in the dataset of a minimum length.\n",
    "    \n",
    "    Args:\n",
    "        all_words (list): List of all words.\n",
    "        len_minimum (int): Minimum length of words to consider.\n",
    "        top_n (int): Number of most common words to return.\n",
    "        stop_words (bool): Whether to exclude common stop words.\n",
    "        special_chars (bool): Whether to include words with special characters.\n",
    "    Returns:\n",
    "        list: A list of tuples containing the most common words and their counts.\n",
    "    \"\"\"\n",
    "    if stop_words:\n",
    "        stop_words_set = set(stopwords.words('english'))\n",
    "        all_words = [word for word in all_words if word.lower() not in stop_words_set]\n",
    "\n",
    "    regex = r'[a-zA-Z]+' if not special_chars else r'.+'\n",
    "    lowered_words = [word.lower() for word in all_words if re.fullmatch(regex, word) and len(word) >= len_minimum]\n",
    "\n",
    "    word_counts = Counter(lowered_words)\n",
    "\n",
    "    return word_counts.most_common(top_n)\n"
   ]
  },
  {
   "cell_type": "markdown",
   "id": "b516e8d9",
   "metadata": {},
   "source": [
    "#### Safe emails"
   ]
  },
  {
   "cell_type": "code",
   "execution_count": 63,
   "id": "a39d376f",
   "metadata": {},
   "outputs": [
    {
     "data": {
      "text/plain": [
       "[('enron', 19266),\n",
       " ('university', 17162),\n",
       " ('language', 16795),\n",
       " ('one', 11085),\n",
       " ('ect', 11002),\n",
       " ('would', 10816),\n",
       " ('new', 10240),\n",
       " ('information', 10033),\n",
       " ('please', 9881),\n",
       " ('linguistics', 8908)]"
      ]
     },
     "execution_count": 63,
     "metadata": {},
     "output_type": "execute_result"
    }
   ],
   "source": [
    "all_safe_words = [word for text in safe_emails[\"text\"] for word in text.split()]\n",
    "get_most_common_words(all_safe_words, len_minimum=0, top_n=10)"
   ]
  },
  {
   "cell_type": "code",
   "execution_count": 64,
   "id": "a7cbcef2",
   "metadata": {},
   "outputs": [
    {
     "data": {
      "text/plain": [
       "[('enron', 19266),\n",
       " ('university', 17162),\n",
       " ('language', 16795),\n",
       " ('would', 10816),\n",
       " ('information', 10033),\n",
       " ('please', 9881),\n",
       " ('linguistics', 8908),\n",
       " ('also', 8310),\n",
       " ('conference', 7954),\n",
       " ('papers', 6882)]"
      ]
     },
     "execution_count": 64,
     "metadata": {},
     "output_type": "execute_result"
    }
   ],
   "source": [
    "get_most_common_words(all_safe_words, len_minimum=4, top_n=10)"
   ]
  },
  {
   "cell_type": "markdown",
   "id": "7fa7e445",
   "metadata": {},
   "source": [
    "#### Phishing emails"
   ]
  },
  {
   "cell_type": "code",
   "execution_count": 65,
   "id": "7343b319",
   "metadata": {},
   "outputs": [
    {
     "data": {
      "text/plain": [
       "[('email', 5126),\n",
       " ('com', 3937),\n",
       " ('free', 3936),\n",
       " ('get', 3822),\n",
       " ('please', 3753),\n",
       " ('company', 3746),\n",
       " ('information', 3535),\n",
       " ('money', 3490),\n",
       " ('one', 3466),\n",
       " ('business', 3258)]"
      ]
     },
     "execution_count": 65,
     "metadata": {},
     "output_type": "execute_result"
    }
   ],
   "source": [
    "all_phishing_words = [word for text in phishing_emails[\"text\"] for word in text.split()]\n",
    "get_most_common_words(all_phishing_words, len_minimum=0, top_n=10)"
   ]
  },
  {
   "cell_type": "code",
   "execution_count": 66,
   "id": "88e1bc41",
   "metadata": {},
   "outputs": [
    {
     "data": {
      "text/plain": [
       "[('email', 5126),\n",
       " ('free', 3936),\n",
       " ('please', 3753),\n",
       " ('company', 3746),\n",
       " ('information', 3535),\n",
       " ('money', 3490),\n",
       " ('business', 3258),\n",
       " ('http', 3113),\n",
       " ('report', 2960),\n",
       " ('time', 2945)]"
      ]
     },
     "execution_count": 66,
     "metadata": {},
     "output_type": "execute_result"
    }
   ],
   "source": [
    "get_most_common_words(all_phishing_words, len_minimum=4, top_n=10)"
   ]
  },
  {
   "cell_type": "markdown",
   "id": "f774a728",
   "metadata": {},
   "source": [
    "It seems that phishing emails are more likely to contain words related to urgency, action, and financial terms.\n",
    "\n",
    "Safe emails, on the other hand, tend to be more neutral and informative."
   ]
  },
  {
   "cell_type": "markdown",
   "id": "974a449c",
   "metadata": {},
   "source": [
    "### Words per email"
   ]
  },
  {
   "cell_type": "code",
   "execution_count": 67,
   "id": "7642843b",
   "metadata": {},
   "outputs": [],
   "source": [
    "safe_emails[\"number_of_words\"] = safe_emails[\"text\"].apply(lambda x: len(x.split()))\n",
    "phishing_emails[\"number_of_words\"] = phishing_emails[\"text\"].apply(lambda x: len(x.split()))"
   ]
  },
  {
   "cell_type": "markdown",
   "id": "c3218497",
   "metadata": {},
   "source": [
    "#### Safe emails"
   ]
  },
  {
   "cell_type": "code",
   "execution_count": null,
   "id": "4a14d2f3",
   "metadata": {},
   "outputs": [
    {
     "data": {
      "text/plain": [
       "count      11322.00\n",
       "mean         685.87\n",
       "std        33160.24\n",
       "min            1.00\n",
       "25%           79.00\n",
       "50%          179.00\n",
       "75%          389.00\n",
       "max      3527576.00\n",
       "Name: number_of_words, dtype: float64"
      ]
     },
     "execution_count": 70,
     "metadata": {},
     "output_type": "execute_result"
    }
   ],
   "source": [
    "safe_emails[\"number_of_words\"].describe().round(2)"
   ]
  },
  {
   "cell_type": "markdown",
   "id": "272c66fb",
   "metadata": {},
   "source": [
    "#### Phishing emails"
   ]
  },
  {
   "cell_type": "code",
   "execution_count": 71,
   "id": "2b8556ef",
   "metadata": {},
   "outputs": [
    {
     "data": {
      "text/plain": [
       "count     7328.00\n",
       "mean       301.19\n",
       "std        569.72\n",
       "min          0.00\n",
       "25%         68.00\n",
       "50%        136.00\n",
       "75%        290.00\n",
       "max      11625.00\n",
       "Name: number_of_words, dtype: float64"
      ]
     },
     "execution_count": 71,
     "metadata": {},
     "output_type": "execute_result"
    }
   ],
   "source": [
    "phishing_emails[\"number_of_words\"].describe().round(2)"
   ]
  },
  {
   "cell_type": "markdown",
   "id": "cbb9edf1",
   "metadata": {},
   "source": [
    "Phishing emails tend to be shorter than safe emails, which may indicate a more direct approach to trick the recipient."
   ]
  }
 ],
 "metadata": {
  "kernelspec": {
   "display_name": "FTML",
   "language": "python",
   "name": "python3"
  },
  "language_info": {
   "codemirror_mode": {
    "name": "ipython",
    "version": 3
   },
   "file_extension": ".py",
   "mimetype": "text/x-python",
   "name": "python",
   "nbconvert_exporter": "python",
   "pygments_lexer": "ipython3",
   "version": "3.12.10"
  }
 },
 "nbformat": 4,
 "nbformat_minor": 5
}

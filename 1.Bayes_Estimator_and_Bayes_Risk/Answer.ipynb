{
 "cells": [
  {
   "cell_type": "markdown",
   "id": "437aeeef",
   "metadata": {},
   "source": [
    "## Question 1"
   ]
  },
  {
   "cell_type": "markdown",
   "id": "ff2edd00",
   "metadata": {},
   "source": [
    "### Setting:\n",
    "\n",
    "Let's have an input space X being the temperature of a room in degreese Celsius.\n",
    "\n",
    "Let our output space Y be the energy consumed by an air conditioner per hour, in kilowatt-hours.\n",
    "\n",
    "Our joint random variable (X, Y) follows a joint distribution where:\n",
    "- The temperature X ~ u(20, 30) (uniform distribution between 20 and 30 degrees).\n",
    "- The output Y = 0.5 * (X - 20) + e, with e ~ N(0, 0.01)\n",
    "\n",
    "So, Y | X = x ~ N(0.5(x - 20), 0.01).\n",
    "\n",
    "For our loss functions, we choose the squarred loss:\n",
    "- l(y, ŷ) = (y - ŷ)^2\n",
    "\n",
    "### Bayes predictor f*(x):\n",
    "\n",
    "With the squarred loss, the Bayes predictor is the conditional mean:\n",
    "\n",
    "- f*(x) = E[Y | X = x] = 0.5(x - 20)\n",
    "\n",
    "### Bayes Risk R(f*):\n",
    "\n",
    "The Bayes risk is the expected loss using the Bayes predictor:\n",
    "\n",
    "- R(f*) = E[(Y - f*(X))^2] = E[Var(Y | X)]\n",
    "\n",
    "Since Y | X = x ~ N(f*(x), 0.01), the conditional variance is constant:\n",
    "\n",
    "- R(f*) = 0.01"
   ]
  },
  {
   "cell_type": "markdown",
   "id": "1e6b2932",
   "metadata": {},
   "source": [
    "## Question 2"
   ]
  },
  {
   "cell_type": "code",
   "execution_count": null,
   "id": "ea409e66",
   "metadata": {},
   "outputs": [
    {
     "name": "stdout",
     "output_type": "stream",
     "text": [
      "\n",
      "X:\n",
      "[22.12789982 25.80353569 26.35337412 ... 27.7886574  21.2350486\n",
      " 23.21175806]\n",
      "\n",
      "y:\n",
      "[1.16863644 3.00645437 3.28137359 ... 3.99901523 0.72221083 1.71056556]\n",
      "\n",
      "y pred bad:\n",
      "[1 3 1 ... 4 1 0]\n",
      "\n",
      "y pred Bayes:\n",
      "[1 2 3 ... 3 0 1]\n",
      "\n",
      "Empirical risk for Bayes predictor squared loss:\n",
      "0.010959269725041793\n",
      "\n",
      "Empirical risk for bad predictor squared loss:\n",
      "4.184853790728646\n"
     ]
    }
   ],
   "source": [
    "import numpy as np\n",
    "\n",
    "rng = np.random.default_rng(seed=8080)\n",
    "\n",
    "n_samples = int(1e6)\n",
    "X = rng.uniform(20, 30, n_samples).astype(float)\n",
    "y = 0.5 * (X - 20) + rng.normal(0, 0.1)\n",
    "\n",
    "y_pred_bayes = 0.5 * (X - 20)\n",
    "\n",
    "# Our own predictor will just predict random values between 0 and 5 which is the domain of Y\n",
    "y_pred_bad = rng.uniform(0, 5, n_samples).astype(float)\n",
    "\n",
    "empirical_risk_bayes = np.mean(np.square(y - y_pred_bayes))\n",
    "\n",
    "empirical_risk_bad_estimator = np.mean(np.square(y - y_pred_bad))\n",
    "\n",
    "print(\"\\nX:\")\n",
    "print(X)\n",
    "print(\"\\ny:\")\n",
    "print(y)\n",
    "print(\"\\ny pred bad:\")\n",
    "print(y_pred_bad.astype(int))\n",
    "print(\"\\ny pred Bayes:\")\n",
    "print(y_pred_bayes.astype(int))\n",
    "print(\"\\nEmpirical risk for Bayes predictor squared loss:\")\n",
    "print(empirical_risk_bayes)\n",
    "print(\"\\nEmpirical risk for bad predictor squared loss:\")\n",
    "print(empirical_risk_bad_estimator)"
   ]
  },
  {
   "cell_type": "markdown",
   "id": "e7c40640",
   "metadata": {},
   "source": [
    "We can see from our random example that our empirical risk for our Bayes predictor is close to the one we computed in question 1.\n",
    "\n",
    "Also, we can see that our empirical risk for our own predictor is way worse than the Bayes' one."
   ]
  }
 ],
 "metadata": {
  "kernelspec": {
   "display_name": "base",
   "language": "python",
   "name": "python3"
  },
  "language_info": {
   "codemirror_mode": {
    "name": "ipython",
    "version": 3
   },
   "file_extension": ".py",
   "mimetype": "text/x-python",
   "name": "python",
   "nbconvert_exporter": "python",
   "pygments_lexer": "ipython3",
   "version": "3.12.10"
  }
 },
 "nbformat": 4,
 "nbformat_minor": 5
}
